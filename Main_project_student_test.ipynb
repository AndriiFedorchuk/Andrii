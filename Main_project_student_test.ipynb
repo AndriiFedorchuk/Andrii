{
  "nbformat": 4,
  "nbformat_minor": 0,
  "metadata": {
    "colab": {
      "name": "Main_project.ipynb",
      "provenance": [],
      "include_colab_link": true
    },
    "kernelspec": {
      "name": "python3",
      "display_name": "Python 3"
    }
  },
  "cells": [
    {
      "cell_type": "markdown",
      "metadata": {
        "id": "view-in-github",
        "colab_type": "text"
      },
      "source": [
        "<a href=\"https://colab.research.google.com/github/AndriiFedorchuk/Andrii/blob/master/Main_project_student_test.ipynb\" target=\"_parent\"><img src=\"https://colab.research.google.com/assets/colab-badge.svg\" alt=\"Open In Colab\"/></a>"
      ]
    },
    {
      "cell_type": "markdown",
      "metadata": {
        "id": "qImwF8-qzoFL",
        "colab_type": "text"
      },
      "source": [
        "# Main assumptions\n",
        "\n",
        "The purpose of this project is to train the neural network, which, based on the hobby and the interests of the person, will guess its gender.\n",
        "\n",
        "It is worth saying that the author of the project does NOT believe that certain interests and hobbies are inherent only in men or only women, just as he does not support the view that certain hobbies are pure \"male\" or \"female\".\n",
        "\n",
        "The author also respects people's right to self-identification, including gender one. The division of people into two genders was chosen only due to the fact, that the corresponding division was in the data set from which the author took the main data.\n",
        "\n",
        "The author of the project only believes that in 2020, there are still some factors that encourage people to choose their interests in such a way that there is a statistically significant difference between the interests of genders. These factors include, but are not limited to:\n",
        "- traditional education\n",
        "- the influence of people with traditional views\n",
        "- society's expectation that a person will behave according to his or her gender role\n",
        "- the effect of hormones (in particular testosterone stimulates interest in competitiveness and cruelty)\n",
        "- etc.\n",
        "\n",
        "Based on all of the above, the author believes that in 2020 it is impossible to guess the gender of a person with 100% accuracy, based only on its interests and hobbies, but thinks that it is quite possible to expect a guessing accuracy at the order of 70-85%."
      ]
    },
    {
      "cell_type": "markdown",
      "metadata": {
        "id": "YJGTgLYuzq_d",
        "colab_type": "text"
      },
      "source": [
        "# Data importing\n",
        "\n",
        "To begin with, we import the basic tools and the main file. The file is in .swc format and was manually created by the author based on an open-source data set.\n",
        "\n",
        "[https://www.kaggle.com/miroslavsabo/young-people-survey#columns.csv](https://www.kaggle.com/miroslavsabo/young-people-survey#columns.csv)\n",
        "\n",
        "The number of parameters was reduced from 150 to 33, of which 32 are hobbies and interests of the person, and 1 - its gender.\n",
        "\n",
        "In order to simplify my task I marked genders with numbers:\n",
        "- 0 - male\n",
        "- 1 - female"
      ]
    },
    {
      "cell_type": "code",
      "metadata": {
        "id": "zkfOrKnpovMa",
        "colab_type": "code",
        "outputId": "c896fd6d-e12f-4b22-ce50-52c0c003ff9e",
        "colab": {
          "base_uri": "https://localhost:8080/",
          "height": 134
        }
      },
      "source": [
        "from __future__ import absolute_import, division, print_function, unicode_literals\n",
        "\n",
        "import numpy as np\n",
        "import pandas as pd\n",
        "from sklearn.model_selection import train_test_split\n",
        "\n",
        "#https://raw.githubusercontent.com/AndriiFedorchuk/Andrii/master/responses.csv\n",
        "\n",
        "URL = 'https://raw.githubusercontent.com/AndriiFedorchuk/Andrii/master/main_fa.csv'    \n",
        "dataset = pd.read_csv(URL)                                                             \n",
        "    \n",
        "\n",
        "URL2 = 'https://raw.githubusercontent.com/AndriiFedorchuk/Andrii/master/Student%20test.csv'\n",
        "datasetZ = pd.read_csv(URL2)                                                             \n",
        "datasetZ.head(5)   "
      ],
      "execution_count": 9,
      "outputs": [
        {
          "output_type": "execute_result",
          "data": {
            "text/html": [
              "<div>\n",
              "<style scoped>\n",
              "    .dataframe tbody tr th:only-of-type {\n",
              "        vertical-align: middle;\n",
              "    }\n",
              "\n",
              "    .dataframe tbody tr th {\n",
              "        vertical-align: top;\n",
              "    }\n",
              "\n",
              "    .dataframe thead th {\n",
              "        text-align: right;\n",
              "    }\n",
              "</style>\n",
              "<table border=\"1\" class=\"dataframe\">\n",
              "  <thead>\n",
              "    <tr style=\"text-align: right;\">\n",
              "      <th></th>\n",
              "      <th>History</th>\n",
              "      <th>Psychology</th>\n",
              "      <th>Politics</th>\n",
              "      <th>Mathematics</th>\n",
              "      <th>Physics</th>\n",
              "      <th>Internet</th>\n",
              "      <th>PC</th>\n",
              "      <th>Economy Management</th>\n",
              "      <th>Biology</th>\n",
              "      <th>Chemistry</th>\n",
              "      <th>Reading</th>\n",
              "      <th>Geography</th>\n",
              "      <th>Foreign languages</th>\n",
              "      <th>Medicine</th>\n",
              "      <th>Law</th>\n",
              "      <th>Cars</th>\n",
              "      <th>Art exhibitions</th>\n",
              "      <th>Religion</th>\n",
              "      <th>Countryside and outdoors</th>\n",
              "      <th>Dancing</th>\n",
              "      <th>Musical instruments</th>\n",
              "      <th>Writing</th>\n",
              "      <th>Passive sport</th>\n",
              "      <th>Active sport</th>\n",
              "      <th>Gardening</th>\n",
              "      <th>Celebrities</th>\n",
              "      <th>Shopping</th>\n",
              "      <th>Science and technology</th>\n",
              "      <th>Theatre</th>\n",
              "      <th>Fun with friends</th>\n",
              "      <th>Adrenaline sports</th>\n",
              "      <th>Pets</th>\n",
              "      <th>Gender</th>\n",
              "    </tr>\n",
              "  </thead>\n",
              "  <tbody>\n",
              "    <tr>\n",
              "      <th>0</th>\n",
              "      <td>4</td>\n",
              "      <td>4</td>\n",
              "      <td>2</td>\n",
              "      <td>4</td>\n",
              "      <td>5</td>\n",
              "      <td>4</td>\n",
              "      <td>4</td>\n",
              "      <td>3</td>\n",
              "      <td>4</td>\n",
              "      <td>5</td>\n",
              "      <td>4</td>\n",
              "      <td>2</td>\n",
              "      <td>3</td>\n",
              "      <td>3</td>\n",
              "      <td>2</td>\n",
              "      <td>2</td>\n",
              "      <td>2</td>\n",
              "      <td>4</td>\n",
              "      <td>5</td>\n",
              "      <td>2</td>\n",
              "      <td>3</td>\n",
              "      <td>3</td>\n",
              "      <td>4</td>\n",
              "      <td>3</td>\n",
              "      <td>2</td>\n",
              "      <td>2</td>\n",
              "      <td>2</td>\n",
              "      <td>5</td>\n",
              "      <td>2</td>\n",
              "      <td>5</td>\n",
              "      <td>2</td>\n",
              "      <td>3</td>\n",
              "      <td>0</td>\n",
              "    </tr>\n",
              "  </tbody>\n",
              "</table>\n",
              "</div>"
            ],
            "text/plain": [
              "   History  Psychology  Politics  ...  Adrenaline sports  Pets  Gender\n",
              "0        4           4         2  ...                  2     3       0\n",
              "\n",
              "[1 rows x 33 columns]"
            ]
          },
          "metadata": {
            "tags": []
          },
          "execution_count": 9
        }
      ]
    },
    {
      "cell_type": "markdown",
      "metadata": {
        "id": "uam42Z-SGeKf",
        "colab_type": "text"
      },
      "source": [
        "# Dividing the datasheet\n",
        "\n",
        "Here I divided a dataset in two parts.\n",
        "\n",
        "All interests and hobbies I marked as x (my input) and gender as y (my output).\n",
        "\n",
        "Also, I divided all data into training data (80%) and testing data (20%).\n"
      ]
    },
    {
      "cell_type": "code",
      "metadata": {
        "id": "hCpLvAp_pAAm",
        "colab_type": "code",
        "outputId": "a404ac32-b4e3-43fb-e001-9fa0297fd828",
        "colab": {
          "base_uri": "https://localhost:8080/",
          "height": 86
        }
      },
      "source": [
        "x_train = dataset.iloc[:,:32].values\n",
        "x_test = datasetZ.iloc[:,:32].values\n",
        "y_train = dataset.iloc[:,32].values\n",
        "y_test = datasetZ.iloc[:,32].values\n",
        "\n",
        "#from sklearn.model_selection import train_test_split\n",
        "#x_train,x_test,y_train,y_test = train_test_split(x,y,test_size = 0.2)\n",
        "\n",
        "# print info about a shape of arrays\n",
        "print(x_train.shape, 'train samples for parameters')\n",
        "print(y_train.shape, 'train samples for output - Gender')\n",
        "print(x_test.shape, 'test samples  for parameters')\n",
        "print(y_test.shape, 'test samples for output - Gender')"
      ],
      "execution_count": 10,
      "outputs": [
        {
          "output_type": "stream",
          "text": [
            "(1000, 32) train samples for parameters\n",
            "(1000,) train samples for output - Gender\n",
            "(1, 32) test samples  for parameters\n",
            "(1,) test samples for output - Gender\n"
          ],
          "name": "stdout"
        }
      ]
    },
    {
      "cell_type": "code",
      "metadata": {
        "id": "NH8-SOucpM7F",
        "colab_type": "code",
        "outputId": "6cef3607-305c-45ba-ff7a-1abd85fb82c5",
        "colab": {
          "base_uri": "https://localhost:8080/",
          "height": 673
        }
      },
      "source": [
        "import keras\n",
        "import tensorflow as tf\n",
        "from keras.models import Sequential\n",
        "from keras.layers import Dense\n",
        "from keras.layers import Dropout\n",
        "\n",
        "# Neural network\n",
        "model = Sequential()\n",
        "model.add(Dense(32, activation='relu', input_shape=(32,)))\n",
        "model.add(Dropout(0.3))\n",
        "model.add(Dense(32, activation='relu'))\n",
        "model.add(Dropout(0.3))\n",
        "model.add(Dense(2, activation='softmax'))\n",
        "\n",
        "model.compile(optimizer='adam',\n",
        "              loss='sparse_categorical_crossentropy',\n",
        "              metrics=['accuracy'])\n",
        "\n",
        "model.summary()"
      ],
      "execution_count": 11,
      "outputs": [
        {
          "output_type": "stream",
          "text": [
            "Using TensorFlow backend.\n"
          ],
          "name": "stderr"
        },
        {
          "output_type": "display_data",
          "data": {
            "text/html": [
              "<p style=\"color: red;\">\n",
              "The default version of TensorFlow in Colab will soon switch to TensorFlow 2.x.<br>\n",
              "We recommend you <a href=\"https://www.tensorflow.org/guide/migrate\" target=\"_blank\">upgrade</a> now \n",
              "or ensure your notebook will continue to use TensorFlow 1.x via the <code>%tensorflow_version 1.x</code> magic:\n",
              "<a href=\"https://colab.research.google.com/notebooks/tensorflow_version.ipynb\" target=\"_blank\">more info</a>.</p>\n"
            ],
            "text/plain": [
              "<IPython.core.display.HTML object>"
            ]
          },
          "metadata": {
            "tags": []
          }
        },
        {
          "output_type": "stream",
          "text": [
            "WARNING:tensorflow:From /usr/local/lib/python3.6/dist-packages/keras/backend/tensorflow_backend.py:66: The name tf.get_default_graph is deprecated. Please use tf.compat.v1.get_default_graph instead.\n",
            "\n",
            "WARNING:tensorflow:From /usr/local/lib/python3.6/dist-packages/keras/backend/tensorflow_backend.py:541: The name tf.placeholder is deprecated. Please use tf.compat.v1.placeholder instead.\n",
            "\n",
            "WARNING:tensorflow:From /usr/local/lib/python3.6/dist-packages/keras/backend/tensorflow_backend.py:4432: The name tf.random_uniform is deprecated. Please use tf.random.uniform instead.\n",
            "\n",
            "WARNING:tensorflow:From /usr/local/lib/python3.6/dist-packages/keras/backend/tensorflow_backend.py:148: The name tf.placeholder_with_default is deprecated. Please use tf.compat.v1.placeholder_with_default instead.\n",
            "\n",
            "WARNING:tensorflow:From /usr/local/lib/python3.6/dist-packages/keras/backend/tensorflow_backend.py:3733: calling dropout (from tensorflow.python.ops.nn_ops) with keep_prob is deprecated and will be removed in a future version.\n",
            "Instructions for updating:\n",
            "Please use `rate` instead of `keep_prob`. Rate should be set to `rate = 1 - keep_prob`.\n",
            "WARNING:tensorflow:From /usr/local/lib/python3.6/dist-packages/keras/optimizers.py:793: The name tf.train.Optimizer is deprecated. Please use tf.compat.v1.train.Optimizer instead.\n",
            "\n",
            "WARNING:tensorflow:From /usr/local/lib/python3.6/dist-packages/keras/backend/tensorflow_backend.py:3622: The name tf.log is deprecated. Please use tf.math.log instead.\n",
            "\n",
            "Model: \"sequential_1\"\n",
            "_________________________________________________________________\n",
            "Layer (type)                 Output Shape              Param #   \n",
            "=================================================================\n",
            "dense_1 (Dense)              (None, 32)                1056      \n",
            "_________________________________________________________________\n",
            "dropout_1 (Dropout)          (None, 32)                0         \n",
            "_________________________________________________________________\n",
            "dense_2 (Dense)              (None, 32)                1056      \n",
            "_________________________________________________________________\n",
            "dropout_2 (Dropout)          (None, 32)                0         \n",
            "_________________________________________________________________\n",
            "dense_3 (Dense)              (None, 2)                 66        \n",
            "=================================================================\n",
            "Total params: 2,178\n",
            "Trainable params: 2,178\n",
            "Non-trainable params: 0\n",
            "_________________________________________________________________\n"
          ],
          "name": "stdout"
        }
      ]
    },
    {
      "cell_type": "markdown",
      "metadata": {
        "id": "9Lk-sJw7QhIW",
        "colab_type": "text"
      },
      "source": [
        "# Training a neural network"
      ]
    },
    {
      "cell_type": "code",
      "metadata": {
        "id": "6AX89Jraqeke",
        "colab_type": "code",
        "outputId": "79051076-42a7-437d-e572-31fc5ac7d767",
        "colab": {
          "base_uri": "https://localhost:8080/",
          "height": 1000
        }
      },
      "source": [
        "batch_size = 100\n",
        "epochs = 60\n",
        "\n",
        "history = model.fit(x_train, y_train,\n",
        "                    batch_size=batch_size,\n",
        "                    epochs=epochs,\n",
        "                    verbose=1,\n",
        "                    validation_data=(x_test, y_test))"
      ],
      "execution_count": 12,
      "outputs": [
        {
          "output_type": "stream",
          "text": [
            "WARNING:tensorflow:From /usr/local/lib/python3.6/dist-packages/tensorflow_core/python/ops/math_grad.py:1424: where (from tensorflow.python.ops.array_ops) is deprecated and will be removed in a future version.\n",
            "Instructions for updating:\n",
            "Use tf.where in 2.0, which has the same broadcast rule as np.where\n",
            "WARNING:tensorflow:From /usr/local/lib/python3.6/dist-packages/keras/backend/tensorflow_backend.py:1033: The name tf.assign_add is deprecated. Please use tf.compat.v1.assign_add instead.\n",
            "\n",
            "WARNING:tensorflow:From /usr/local/lib/python3.6/dist-packages/keras/backend/tensorflow_backend.py:1020: The name tf.assign is deprecated. Please use tf.compat.v1.assign instead.\n",
            "\n",
            "WARNING:tensorflow:From /usr/local/lib/python3.6/dist-packages/keras/backend/tensorflow_backend.py:3005: The name tf.Session is deprecated. Please use tf.compat.v1.Session instead.\n",
            "\n",
            "Train on 1000 samples, validate on 1 samples\n",
            "Epoch 1/60\n",
            "WARNING:tensorflow:From /usr/local/lib/python3.6/dist-packages/keras/backend/tensorflow_backend.py:190: The name tf.get_default_session is deprecated. Please use tf.compat.v1.get_default_session instead.\n",
            "\n",
            "WARNING:tensorflow:From /usr/local/lib/python3.6/dist-packages/keras/backend/tensorflow_backend.py:197: The name tf.ConfigProto is deprecated. Please use tf.compat.v1.ConfigProto instead.\n",
            "\n",
            "WARNING:tensorflow:From /usr/local/lib/python3.6/dist-packages/keras/backend/tensorflow_backend.py:207: The name tf.global_variables is deprecated. Please use tf.compat.v1.global_variables instead.\n",
            "\n",
            "WARNING:tensorflow:From /usr/local/lib/python3.6/dist-packages/keras/backend/tensorflow_backend.py:216: The name tf.is_variable_initialized is deprecated. Please use tf.compat.v1.is_variable_initialized instead.\n",
            "\n",
            "WARNING:tensorflow:From /usr/local/lib/python3.6/dist-packages/keras/backend/tensorflow_backend.py:223: The name tf.variables_initializer is deprecated. Please use tf.compat.v1.variables_initializer instead.\n",
            "\n",
            "1000/1000 [==============================] - 1s 713us/step - loss: 1.2260 - acc: 0.5580 - val_loss: 1.1117 - val_acc: 0.0000e+00\n",
            "Epoch 2/60\n",
            "1000/1000 [==============================] - 0s 23us/step - loss: 0.8392 - acc: 0.6150 - val_loss: 0.8610 - val_acc: 0.0000e+00\n",
            "Epoch 3/60\n",
            "1000/1000 [==============================] - 0s 18us/step - loss: 0.7448 - acc: 0.6240 - val_loss: 0.9008 - val_acc: 0.0000e+00\n",
            "Epoch 4/60\n",
            "1000/1000 [==============================] - 0s 22us/step - loss: 0.6928 - acc: 0.6380 - val_loss: 0.9163 - val_acc: 0.0000e+00\n",
            "Epoch 5/60\n",
            "1000/1000 [==============================] - 0s 20us/step - loss: 0.6387 - acc: 0.6680 - val_loss: 0.8022 - val_acc: 0.0000e+00\n",
            "Epoch 6/60\n",
            "1000/1000 [==============================] - 0s 20us/step - loss: 0.5675 - acc: 0.7140 - val_loss: 0.8178 - val_acc: 0.0000e+00\n",
            "Epoch 7/60\n",
            "1000/1000 [==============================] - 0s 21us/step - loss: 0.5302 - acc: 0.7120 - val_loss: 0.9108 - val_acc: 0.0000e+00\n",
            "Epoch 8/60\n",
            "1000/1000 [==============================] - 0s 21us/step - loss: 0.5799 - acc: 0.7050 - val_loss: 0.9417 - val_acc: 0.0000e+00\n",
            "Epoch 9/60\n",
            "1000/1000 [==============================] - 0s 21us/step - loss: 0.5327 - acc: 0.7370 - val_loss: 0.7310 - val_acc: 0.0000e+00\n",
            "Epoch 10/60\n",
            "1000/1000 [==============================] - 0s 23us/step - loss: 0.5137 - acc: 0.7520 - val_loss: 0.8324 - val_acc: 0.0000e+00\n",
            "Epoch 11/60\n",
            "1000/1000 [==============================] - 0s 22us/step - loss: 0.4892 - acc: 0.7580 - val_loss: 0.7119 - val_acc: 0.0000e+00\n",
            "Epoch 12/60\n",
            "1000/1000 [==============================] - 0s 23us/step - loss: 0.4955 - acc: 0.7600 - val_loss: 0.6247 - val_acc: 1.0000\n",
            "Epoch 13/60\n",
            "1000/1000 [==============================] - 0s 21us/step - loss: 0.4683 - acc: 0.7910 - val_loss: 0.7727 - val_acc: 0.0000e+00\n",
            "Epoch 14/60\n",
            "1000/1000 [==============================] - 0s 24us/step - loss: 0.4307 - acc: 0.8100 - val_loss: 0.6614 - val_acc: 1.0000\n",
            "Epoch 15/60\n",
            "1000/1000 [==============================] - 0s 23us/step - loss: 0.4545 - acc: 0.7860 - val_loss: 0.4684 - val_acc: 1.0000\n",
            "Epoch 16/60\n",
            "1000/1000 [==============================] - 0s 20us/step - loss: 0.4621 - acc: 0.8000 - val_loss: 0.5316 - val_acc: 1.0000\n",
            "Epoch 17/60\n",
            "1000/1000 [==============================] - 0s 22us/step - loss: 0.4481 - acc: 0.7880 - val_loss: 0.5443 - val_acc: 1.0000\n",
            "Epoch 18/60\n",
            "1000/1000 [==============================] - 0s 21us/step - loss: 0.4217 - acc: 0.8060 - val_loss: 0.4740 - val_acc: 1.0000\n",
            "Epoch 19/60\n",
            "1000/1000 [==============================] - 0s 21us/step - loss: 0.4245 - acc: 0.8020 - val_loss: 0.4810 - val_acc: 1.0000\n",
            "Epoch 20/60\n",
            "1000/1000 [==============================] - 0s 21us/step - loss: 0.4137 - acc: 0.8140 - val_loss: 0.4698 - val_acc: 1.0000\n",
            "Epoch 21/60\n",
            "1000/1000 [==============================] - 0s 23us/step - loss: 0.4059 - acc: 0.8300 - val_loss: 0.4818 - val_acc: 1.0000\n",
            "Epoch 22/60\n",
            "1000/1000 [==============================] - 0s 25us/step - loss: 0.4158 - acc: 0.8130 - val_loss: 0.4748 - val_acc: 1.0000\n",
            "Epoch 23/60\n",
            "1000/1000 [==============================] - 0s 19us/step - loss: 0.3997 - acc: 0.8280 - val_loss: 0.4591 - val_acc: 1.0000\n",
            "Epoch 24/60\n",
            "1000/1000 [==============================] - 0s 21us/step - loss: 0.4151 - acc: 0.8150 - val_loss: 0.4064 - val_acc: 1.0000\n",
            "Epoch 25/60\n",
            "1000/1000 [==============================] - 0s 22us/step - loss: 0.4018 - acc: 0.8190 - val_loss: 0.4265 - val_acc: 1.0000\n",
            "Epoch 26/60\n",
            "1000/1000 [==============================] - 0s 22us/step - loss: 0.4143 - acc: 0.8130 - val_loss: 0.4238 - val_acc: 1.0000\n",
            "Epoch 27/60\n",
            "1000/1000 [==============================] - 0s 22us/step - loss: 0.4084 - acc: 0.8080 - val_loss: 0.4606 - val_acc: 1.0000\n",
            "Epoch 28/60\n",
            "1000/1000 [==============================] - 0s 21us/step - loss: 0.3917 - acc: 0.8240 - val_loss: 0.3956 - val_acc: 1.0000\n",
            "Epoch 29/60\n",
            "1000/1000 [==============================] - 0s 25us/step - loss: 0.3741 - acc: 0.8420 - val_loss: 0.4226 - val_acc: 1.0000\n",
            "Epoch 30/60\n",
            "1000/1000 [==============================] - 0s 27us/step - loss: 0.3854 - acc: 0.8300 - val_loss: 0.4127 - val_acc: 1.0000\n",
            "Epoch 31/60\n",
            "1000/1000 [==============================] - 0s 23us/step - loss: 0.3779 - acc: 0.8290 - val_loss: 0.4102 - val_acc: 1.0000\n",
            "Epoch 32/60\n",
            "1000/1000 [==============================] - 0s 23us/step - loss: 0.3758 - acc: 0.8350 - val_loss: 0.4017 - val_acc: 1.0000\n",
            "Epoch 33/60\n",
            "1000/1000 [==============================] - 0s 22us/step - loss: 0.3730 - acc: 0.8250 - val_loss: 0.3630 - val_acc: 1.0000\n",
            "Epoch 34/60\n",
            "1000/1000 [==============================] - 0s 25us/step - loss: 0.3887 - acc: 0.8250 - val_loss: 0.4542 - val_acc: 1.0000\n",
            "Epoch 35/60\n",
            "1000/1000 [==============================] - 0s 20us/step - loss: 0.3467 - acc: 0.8620 - val_loss: 0.4706 - val_acc: 1.0000\n",
            "Epoch 36/60\n",
            "1000/1000 [==============================] - 0s 25us/step - loss: 0.3837 - acc: 0.8400 - val_loss: 0.3849 - val_acc: 1.0000\n",
            "Epoch 37/60\n",
            "1000/1000 [==============================] - 0s 21us/step - loss: 0.3655 - acc: 0.8350 - val_loss: 0.3857 - val_acc: 1.0000\n",
            "Epoch 38/60\n",
            "1000/1000 [==============================] - 0s 22us/step - loss: 0.3547 - acc: 0.8360 - val_loss: 0.3484 - val_acc: 1.0000\n",
            "Epoch 39/60\n",
            "1000/1000 [==============================] - 0s 26us/step - loss: 0.3507 - acc: 0.8620 - val_loss: 0.3268 - val_acc: 1.0000\n",
            "Epoch 40/60\n",
            "1000/1000 [==============================] - 0s 21us/step - loss: 0.3755 - acc: 0.8400 - val_loss: 0.3426 - val_acc: 1.0000\n",
            "Epoch 41/60\n",
            "1000/1000 [==============================] - 0s 26us/step - loss: 0.3425 - acc: 0.8560 - val_loss: 0.3807 - val_acc: 1.0000\n",
            "Epoch 42/60\n",
            "1000/1000 [==============================] - 0s 24us/step - loss: 0.3378 - acc: 0.8650 - val_loss: 0.3281 - val_acc: 1.0000\n",
            "Epoch 43/60\n",
            "1000/1000 [==============================] - 0s 23us/step - loss: 0.3540 - acc: 0.8480 - val_loss: 0.3045 - val_acc: 1.0000\n",
            "Epoch 44/60\n",
            "1000/1000 [==============================] - 0s 20us/step - loss: 0.3382 - acc: 0.8580 - val_loss: 0.4078 - val_acc: 1.0000\n",
            "Epoch 45/60\n",
            "1000/1000 [==============================] - 0s 21us/step - loss: 0.3562 - acc: 0.8480 - val_loss: 0.3406 - val_acc: 1.0000\n",
            "Epoch 46/60\n",
            "1000/1000 [==============================] - 0s 20us/step - loss: 0.3444 - acc: 0.8550 - val_loss: 0.3374 - val_acc: 1.0000\n",
            "Epoch 47/60\n",
            "1000/1000 [==============================] - 0s 22us/step - loss: 0.3460 - acc: 0.8580 - val_loss: 0.3228 - val_acc: 1.0000\n",
            "Epoch 48/60\n",
            "1000/1000 [==============================] - 0s 20us/step - loss: 0.3446 - acc: 0.8610 - val_loss: 0.3033 - val_acc: 1.0000\n",
            "Epoch 49/60\n",
            "1000/1000 [==============================] - 0s 35us/step - loss: 0.3548 - acc: 0.8560 - val_loss: 0.3051 - val_acc: 1.0000\n",
            "Epoch 50/60\n",
            "1000/1000 [==============================] - 0s 35us/step - loss: 0.3520 - acc: 0.8560 - val_loss: 0.3211 - val_acc: 1.0000\n",
            "Epoch 51/60\n",
            "1000/1000 [==============================] - 0s 21us/step - loss: 0.3446 - acc: 0.8520 - val_loss: 0.3696 - val_acc: 1.0000\n",
            "Epoch 52/60\n",
            "1000/1000 [==============================] - 0s 21us/step - loss: 0.3204 - acc: 0.8710 - val_loss: 0.3258 - val_acc: 1.0000\n",
            "Epoch 53/60\n",
            "1000/1000 [==============================] - 0s 21us/step - loss: 0.3334 - acc: 0.8700 - val_loss: 0.2959 - val_acc: 1.0000\n",
            "Epoch 54/60\n",
            "1000/1000 [==============================] - 0s 20us/step - loss: 0.3415 - acc: 0.8620 - val_loss: 0.2649 - val_acc: 1.0000\n",
            "Epoch 55/60\n",
            "1000/1000 [==============================] - 0s 23us/step - loss: 0.3267 - acc: 0.8640 - val_loss: 0.3267 - val_acc: 1.0000\n",
            "Epoch 56/60\n",
            "1000/1000 [==============================] - 0s 20us/step - loss: 0.3217 - acc: 0.8630 - val_loss: 0.3839 - val_acc: 1.0000\n",
            "Epoch 57/60\n",
            "1000/1000 [==============================] - 0s 21us/step - loss: 0.3225 - acc: 0.8580 - val_loss: 0.3565 - val_acc: 1.0000\n",
            "Epoch 58/60\n",
            "1000/1000 [==============================] - 0s 22us/step - loss: 0.3089 - acc: 0.8680 - val_loss: 0.3194 - val_acc: 1.0000\n",
            "Epoch 59/60\n",
            "1000/1000 [==============================] - 0s 23us/step - loss: 0.3227 - acc: 0.8680 - val_loss: 0.2767 - val_acc: 1.0000\n",
            "Epoch 60/60\n",
            "1000/1000 [==============================] - 0s 19us/step - loss: 0.3159 - acc: 0.8660 - val_loss: 0.1836 - val_acc: 1.0000\n"
          ],
          "name": "stdout"
        }
      ]
    },
    {
      "cell_type": "markdown",
      "metadata": {
        "id": "_uJVsFeFQwJ7",
        "colab_type": "text"
      },
      "source": [
        "# Checking neural network efficiency"
      ]
    },
    {
      "cell_type": "code",
      "metadata": {
        "id": "r3Wpuu-X0yN3",
        "colab_type": "code",
        "outputId": "d888ce87-dccc-4de5-c2c8-3e6ce83eacbb",
        "colab": {
          "base_uri": "https://localhost:8080/",
          "height": 608
        }
      },
      "source": [
        "from sklearn import metrics\n",
        "\n",
        "# evaluate the model\n",
        "scores_train = model.evaluate(x_train, y_train, verbose=0)\n",
        "scores_test  = model.evaluate(x_test,  y_test,  verbose=0)\n",
        "\n",
        "print(\"Accuracy Train: %.2f%% , Test: %.2f%% \" % (scores_train[1]*100, scores_test[1]*100 ))\n",
        "\n",
        "# Confusion matrix result\n",
        "from sklearn.metrics import classification_report, confusion_matrix\n",
        "y_pred = model.predict(x_test, verbose=2)\n",
        "\n",
        "#confusion matrix\n",
        "#since y_pred has a shape(200,2) than argmax finds which output cell is bigger\n",
        "\n",
        "cm = confusion_matrix((y_test+0.5).astype(int),np.argmax(y_pred,axis=1))\n",
        "print(cm)\n",
        "\n",
        "plt.plot(history.history['val_acc'])\n",
        "plt.plot(history.history['acc'])\n",
        "plt.title('Model accuracy')\n",
        "plt.ylabel('Accuracy')\n",
        "plt.xlabel('Epoch')\n",
        "plt.legend(['Train', 'Test'], loc='upper left')\n",
        "plt.show()\n",
        "\n",
        "plt.plot(history.history['val_loss']) \n",
        "plt.plot(history.history['loss']) \n",
        "plt.title('Model loss') \n",
        "plt.ylabel('Loss') \n",
        "plt.xlabel('Epoch') \n",
        "plt.legend(['Test', 'Train'], loc='upper left') \n",
        "plt.show()"
      ],
      "execution_count": 13,
      "outputs": [
        {
          "output_type": "stream",
          "text": [
            "Accuracy Train: 88.60% , Test: 100.00% \n",
            "[[1]]\n"
          ],
          "name": "stdout"
        },
        {
          "output_type": "display_data",
          "data": {
            "image/png": "[encoded data removed]",
            "text/plain": [
              "<Figure size 432x288 with 1 Axes>"
            ]
          },
          "metadata": {
            "tags": []
          }
        },
        {
          "output_type": "display_data",
          "data": {
            "image/png": "[encoded data removed]",
            "text/plain": [
              "<Figure size 432x288 with 1 Axes>"
            ]
          },
          "metadata": {
            "tags": []
          }
        }
      ]
    },
    {
      "cell_type": "markdown",
      "metadata": {
        "id": "6JgEf7feYnk_",
        "colab_type": "text"
      },
      "source": [
        "# Conclusion\n",
        "\n",
        "- While doing this task, I realized that I could analyze datasets and create neural networks for my needs\n",
        "- I have created and imported a dataset and analyzed it, using both simple classificators and neural network classificator.\n",
        "- The efficiency of neural network classification and simple classificators are at the same range (~85%), what can be explained by a small dataset and a complexity of a task, which makes it impossible to have much better efficiency.\n"
      ]
    }
  ]
}