{
  "nbformat": 4,
  "nbformat_minor": 0,
  "metadata": {
    "colab": {
      "name": "Main.ipynb",
      "provenance": [],
      "authorship_tag": "ABX9TyMxy7wV3iZncpYo58UetHV7",
      "include_colab_link": true
    },
    "kernelspec": {
      "name": "python3",
      "display_name": "Python 3"
    }
  },
  "cells": [
    {
      "cell_type": "markdown",
      "metadata": {
        "id": "view-in-github",
        "colab_type": "text"
      },
      "source": [
        "<a href=\"https://colab.research.google.com/github/AndriiFedorchuk/Andrii/blob/master/Main.ipynb\" target=\"_parent\"><img src=\"https://colab.research.google.com/assets/colab-badge.svg\" alt=\"Open In Colab\"/></a>"
      ]
    },
    {
      "cell_type": "code",
      "metadata": {
        "id": "tgc5ZBtFcW6O",
        "colab_type": "code",
        "colab": {
          "base_uri": "https://localhost:8080/",
          "height": 104
        },
        "outputId": "12a85244-f790-45c5-cdbf-ce70e2d969c1"
      },
      "source": [
        "!pip install sklearn"
      ],
      "execution_count": 1,
      "outputs": [
        {
          "output_type": "stream",
          "text": [
            "Requirement already satisfied: sklearn in /usr/local/lib/python3.6/dist-packages (0.0)\n",
            "Requirement already satisfied: scikit-learn in /usr/local/lib/python3.6/dist-packages (from sklearn) (0.22.1)\n",
            "Requirement already satisfied: scipy>=0.17.0 in /usr/local/lib/python3.6/dist-packages (from scikit-learn->sklearn) (1.4.1)\n",
            "Requirement already satisfied: numpy>=1.11.0 in /usr/local/lib/python3.6/dist-packages (from scikit-learn->sklearn) (1.17.5)\n",
            "Requirement already satisfied: joblib>=0.11 in /usr/local/lib/python3.6/dist-packages (from scikit-learn->sklearn) (0.14.1)\n"
          ],
          "name": "stdout"
        }
      ]
    },
    {
      "cell_type": "code",
      "metadata": {
        "id": "Rf5tLQdxcira",
        "colab_type": "code",
        "colab": {
          "base_uri": "https://localhost:8080/",
          "height": 34
        },
        "outputId": "47fe0e9d-8f6a-4b08-e205-5df823e0b87b"
      },
      "source": [
        "from __future__ import absolute_import, division, print_function, unicode_literals\n",
        "\n",
        "import numpy as np\n",
        "import pandas as pd\n",
        "\n",
        "try:\n",
        "  # %tensorflow_version only exists in Colab.\n",
        "  %tensorflow_version 2.x\n",
        "except Exception:\n",
        "  pass\n",
        "import tensorflow as tf\n",
        "\n",
        "from tensorflow import feature_column\n",
        "from tensorflow.keras import layers\n",
        "from sklearn.model_selection import train_test_split"
      ],
      "execution_count": 2,
      "outputs": [
        {
          "output_type": "stream",
          "text": [
            "TensorFlow 2.x selected.\n"
          ],
          "name": "stdout"
        }
      ]
    },
    {
      "cell_type": "code",
      "metadata": {
        "id": "izUgV3OVcm8w",
        "colab_type": "code",
        "colab": {
          "base_uri": "https://localhost:8080/",
          "height": 220
        },
        "outputId": "2f9708ca-0897-43f4-cf08-7f094d034712"
      },
      "source": [
        "URL = 'https://raw.githubusercontent.com/AndriiFedorchuk/Andrii/master/main_fa.csv'\n",
        "dataframe = pd.read_csv(URL)\n",
        "dataframe.head()\n"
      ],
      "execution_count": 12,
      "outputs": [
        {
          "output_type": "execute_result",
          "data": {
            "text/html": [
              "<div>\n",
              "<style scoped>\n",
              "    .dataframe tbody tr th:only-of-type {\n",
              "        vertical-align: middle;\n",
              "    }\n",
              "\n",
              "    .dataframe tbody tr th {\n",
              "        vertical-align: top;\n",
              "    }\n",
              "\n",
              "    .dataframe thead th {\n",
              "        text-align: right;\n",
              "    }\n",
              "</style>\n",
              "<table border=\"1\" class=\"dataframe\">\n",
              "  <thead>\n",
              "    <tr style=\"text-align: right;\">\n",
              "      <th></th>\n",
              "      <th>History;Psychology;Politics;Mathematics;Physics;Internet;PC;Economy Management;Biology;Chemistry;Reading;Geography;Foreign languages;Medicine;Law;Cars;Art exhibitions;Religion;Countryside and outdoors;Dancing;Musical instruments;Writing;Passive sport;Active sport;Gardening;Celebrities;Shopping;Science and technology;Theatre;Fun with friends;Adrenaline sports;Pets;Gender</th>\n",
              "    </tr>\n",
              "  </thead>\n",
              "  <tbody>\n",
              "    <tr>\n",
              "      <th>0</th>\n",
              "      <td>1;5;1;3;3;5;3;5;3;3;3;3;5;3;1;1;1;1;5;3;3;2;1;...</td>\n",
              "    </tr>\n",
              "    <tr>\n",
              "      <th>1</th>\n",
              "      <td>1;3;4;5;2;4;4;5;1;1;4;4;5;1;2;2;2;1;1;1;1;1;1;...</td>\n",
              "    </tr>\n",
              "    <tr>\n",
              "      <th>2</th>\n",
              "      <td>1;2;1;5;2;4;2;4;1;1;5;2;5;2;3;1;5;5;5;5;5;5;5;...</td>\n",
              "    </tr>\n",
              "    <tr>\n",
              "      <th>3</th>\n",
              "      <td>4;4;5;4;1;3;1;2;3;3;5;4;4;2;5;1;5;4;1;1;1;3;1;...</td>\n",
              "    </tr>\n",
              "    <tr>\n",
              "      <th>4</th>\n",
              "      <td>3;2;3;2;2;2;2;2;3;3;5;2;3;3;2;3;1;4;4;1;3;1;3;...</td>\n",
              "    </tr>\n",
              "  </tbody>\n",
              "</table>\n",
              "</div>"
            ],
            "text/plain": [
              "  History;Psychology;Politics;Mathematics;Physics;Internet;PC;Economy Management;Biology;Chemistry;Reading;Geography;Foreign languages;Medicine;Law;Cars;Art exhibitions;Religion;Countryside and outdoors;Dancing;Musical instruments;Writing;Passive sport;Active sport;Gardening;Celebrities;Shopping;Science and technology;Theatre;Fun with friends;Adrenaline sports;Pets;Gender\n",
              "0  1;5;1;3;3;5;3;5;3;3;3;3;5;3;1;1;1;1;5;3;3;2;1;...                                                                                                                                                                                                                                                                                                                                  \n",
              "1  1;3;4;5;2;4;4;5;1;1;4;4;5;1;2;2;2;1;1;1;1;1;1;...                                                                                                                                                                                                                                                                                                                                  \n",
              "2  1;2;1;5;2;4;2;4;1;1;5;2;5;2;3;1;5;5;5;5;5;5;5;...                                                                                                                                                                                                                                                                                                                                  \n",
              "3  4;4;5;4;1;3;1;2;3;3;5;4;4;2;5;1;5;4;1;1;1;3;1;...                                                                                                                                                                                                                                                                                                                                  \n",
              "4  3;2;3;2;2;2;2;2;3;3;5;2;3;3;2;3;1;4;4;1;3;1;3;...                                                                                                                                                                                                                                                                                                                                  "
            ]
          },
          "metadata": {
            "tags": []
          },
          "execution_count": 12
        }
      ]
    },
    {
      "cell_type": "code",
      "metadata": {
        "id": "b62pK-j9cvng",
        "colab_type": "code",
        "colab": {
          "base_uri": "https://localhost:8080/",
          "height": 69
        },
        "outputId": "b09f4300-1cf6-48ee-9298-03f05ad53158"
      },
      "source": [
        "train, test = train_test_split(dataframe, test_size=0.1)\n",
        "train, val = train_test_split(train, test_size=0.111)\n",
        "print(len(train), 'train examples')\n",
        "print(len(val), 'validation examples')\n",
        "print(len(test), 'test examples')"
      ],
      "execution_count": 16,
      "outputs": [
        {
          "output_type": "stream",
          "text": [
            "800 train examples\n",
            "100 validation examples\n",
            "100 test examples\n"
          ],
          "name": "stdout"
        }
      ]
    }
  ]
}